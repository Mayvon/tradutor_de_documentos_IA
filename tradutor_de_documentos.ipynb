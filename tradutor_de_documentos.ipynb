{
  "nbformat": 4,
  "nbformat_minor": 0,
  "metadata": {
    "colab": {
      "provenance": [],
      "authorship_tag": "ABX9TyPCuWWAfG1HGkWj2RRt1Gzz",
      "include_colab_link": true
    },
    "kernelspec": {
      "name": "python3",
      "display_name": "Python 3"
    },
    "language_info": {
      "name": "python"
    }
  },
  "cells": [
    {
      "cell_type": "markdown",
      "metadata": {
        "id": "view-in-github",
        "colab_type": "text"
      },
      "source": [
        "<a href=\"https://colab.research.google.com/github/Mayvon/tradutor_de_documentos_IA/blob/main/tradutor_de_documentos.ipynb\" target=\"_parent\"><img src=\"https://colab.research.google.com/assets/colab-badge.svg\" alt=\"Open In Colab\"/></a>"
      ]
    },
    {
      "cell_type": "code",
      "execution_count": null,
      "metadata": {
        "id": "k8bfnaPAqoMH"
      },
      "outputs": [],
      "source": [
        "!pip install requests python-docx"
      ]
    },
    {
      "cell_type": "code",
      "source": [
        "import requests\n",
        "from docx import Document\n",
        "import os\n",
        "\n",
        "subscription_key = 'KEY-HERE'\n",
        "endpoit = 'SEU_ENDPOINT_AQUI'\n",
        "location = 'westus2'\n",
        "language_destination = 'pt-br'\n",
        "\n",
        "def translator_text(text, language_destination):\n",
        " path = '/translate'\n",
        " constructed_languge_url = endpoit + path\n",
        " headers = {\n",
        "     'Ocp-Apim-Subscription-Key': subscription_key,\n",
        "     'Ocp-Apim-Subscription-Region': location,\n",
        "     'Content-type': 'application/json',\n",
        "     'X-ClientTraceId': str(os.urandom(16))\n",
        " }\n",
        "\n",
        "\n",
        " body = [{\n",
        "     'text': text\n",
        " }]\n",
        " params = {\n",
        "     'api-version': '3.0',\n",
        "     'from': 'en',\n",
        "     'to': [language_destination]\n",
        " }\n",
        "\n",
        " request = requests.post(constructed_languge_url, headers=headers, json=body, params=params)\n",
        " response = request.json()\n",
        " return response[0][\"translations\"][0][\"text\"]\n",
        "\n",
        "\n"
      ],
      "metadata": {
        "id": "YRmMkAhP9R2n"
      },
      "execution_count": null,
      "outputs": []
    },
    {
      "cell_type": "code",
      "source": [
        "translator_text (\"Hello\", language_destination)"
      ],
      "metadata": {
        "id": "_gfUf4pAMeSP"
      },
      "execution_count": null,
      "outputs": []
    },
    {
      "cell_type": "code",
      "source": [
        "def translated_document (path):\n",
        "    document = Document(path)\n",
        "    full_text = []\n",
        "    for paragraph in document.paragraphs:\n",
        "      # Renomeando a variável para 'translated_paragraph'\n",
        "      translated_paragraph = translator_text(paragraph.text, language_destination)\n",
        "      full_text.append(translated_paragraph)\n",
        "\n",
        "    # Corrigindo a criação do documento traduzido\n",
        "    translated_doc = Document()  # Criando uma nova instância de Document\n",
        "    for line in full_text:\n",
        "      translated_doc.add_paragraph(line)\n",
        "    path_translated = path.replace('.docx', f\"_{language_destination}.docx\")\n",
        "    translated_doc.save(path_translated)\n",
        "    return path_translated\n"
      ],
      "metadata": {
        "id": "G6m1zNH-M543"
      },
      "execution_count": null,
      "outputs": []
    },
    {
      "cell_type": "code",
      "source": [
        "    input_file = \"/content/arquivo.docx\"\n",
        "    translated_document(input_file)"
      ],
      "metadata": {
        "id": "De4thoOxSSq3"
      },
      "execution_count": null,
      "outputs": []
    }
  ]
}
